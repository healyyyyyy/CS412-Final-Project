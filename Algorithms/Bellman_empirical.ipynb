import time
import matplotlib.pyplot as plt
import numpy as np
from functools import partial
import networkx as nx
from collections import defaultdict
import heapq
import copy 
import random
import itertools
import random
import sys

def graph(n):
    G = nx.complete_graph(n, create_using = nx.Graph)
    for u, v, d in G.edges(data=True):
        d['weight'] = random.randrange(1, 10)
    return G

def graph_dict(G, n):
    dists = {}
    
    for i in range(n):
      dists[i] = {}

    for u, v, d in G.edges(data=True):
            dists[u][v] = d['weight']
    return dists

def complete_graph_matrix_np(G):
    return np.matrix(np.array(G))
    
def Pretty_Print(G):
    for row in G_:
        print(''.join([str(n).rjust(3, ' ') for n in row]))

G = graph(10)
pos = nx.spring_layout(G)
labels = nx.get_edge_attributes(G, 'weight')
nx.draw_networkx_edge_labels(G, pos, edge_labels=labels)
nx.draw(G, pos, with_labels=True)
G_ = graph_dict(G, len(G))
print(G_)

def bellman_ford(graph, source):
    # Step 1: Prepare the distance and predecessor for each node
    distance, predecessor = dict(), dict()
    for node in graph:
        distance[node], predecessor[node] = float('inf'), None
    distance[source] = 0

    # Step 2: Relax the edges
    for _ in range(len(graph) - 1):
        for node in graph:
            for neighbour in graph[node]:
                # If the distance between the node and the neighbour is lower than the current, store it
                if distance[neighbour] > distance[node] + graph[node][neighbour]:
                    distance[neighbour], predecessor[neighbour] = distance[node] + graph[node][neighbour], node

    # Step 3: Check for negative weight cycles
    for node in graph:
        for neighbour in graph[node]:
            assert distance[neighbour] <= distance[node] + graph[node][neighbour], "Negative weight cycle."
 
    return distance, predecessor

runtimes = []
n = 400
for i in range(1, n):
    G = graph(i)
    G_ = graph_dict(G, len(G))
    start = time.time()
    bellman_ford(G_, 0)
    runtimes.append(time.time() - start)

# print(runtimes[99], runtimes[199], runtimes[299], runtimes[399], runtimes[499], runtimes[599], runtimes[699], runtimes[799], runtimes[899], runtimes[999])
plt.plot([i for i in range(1, n)], runtimes)
plt.xlabel("Vertices in Graph")
plt.ylabel("Runtime/Seconds")
plt.show()
