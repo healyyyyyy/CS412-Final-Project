import time
import matplotlib.pyplot as plt
import numpy as np
from functools import partial
import networkx as nx
from collections import defaultdict
import heapq
import copy 
import random
import itertools
import random
import sys

def graph(n):
    G = nx.complete_graph(n, create_using = nx.Graph)
    for u, v, d in G.edges(data=True):
        d['weight'] = random.randrange(1, 10)
    return G

def graph_dict(G, n):
    dists = {}
    
    for i in range(n):
      dists[i] = {}

    for u, v, d in G.edges(data=True):
            dists[u][v] = d['weight']
    return dists

def complete_graph_matrix_np(G):
    return np.matrix(np.array(G))
    
def Pretty_Print(G):
    for row in G_:
        print(''.join([str(n).rjust(3, ' ') for n in row]))

G = graph(10)
pos = nx.spring_layout(G)
labels = nx.get_edge_attributes(G, 'weight')
nx.draw_networkx_edge_labels(G, pos, edge_labels=labels)
nx.draw(G, pos, with_labels=True)
G_ = graph_dict(G, len(G))
print(G_)

def djikstra(graph, starting_vertex):
    distances = {vertex: float('infinity') for vertex in graph}
    distances[starting_vertex] = 0

    pq = [(0, starting_vertex)]
    while len(pq) > 0:
        current_distance, current_vertex = heapq.heappop(pq)

        if current_distance > distances[current_vertex]:
            continue

        for neighbor, weight in graph[current_vertex].items():
            distance = current_distance + weight
            if distance < distances[neighbor]:
                distances[neighbor] = distance
                heapq.heappush(pq, (distance, neighbor))

    return distances


runtimes = []
n = 500
for i in range(1, n):
    G = graph(i)
    G_ = graph_dict(G, len(G))
    start = time.time()
    djikstra(G_, 0)
    runtimes.append(time.time() - start)

# print(runtimes[99], runtimes[199], runtimes[299], runtimes[399], runtimes[499], runtimes[599], runtimes[699], runtimes[799], runtimes[899], runtimes[999])
plt.plot([i for i in range(1, n)], runtimes)
plt.xlabel("Vertices in Graph")
plt.ylabel("Runtime/Seconds")
plt.show()
